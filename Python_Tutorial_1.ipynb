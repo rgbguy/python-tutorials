{
 "cells": [
  {
   "cell_type": "markdown",
   "id": "ce007c5b",
   "metadata": {},
   "source": [
    "## 🔤 Variables and Data Types"
   ]
  },
  {
   "cell_type": "code",
   "execution_count": 1,
   "id": "8d3499d7",
   "metadata": {},
   "outputs": [
    {
     "name": "stdout",
     "output_type": "stream",
     "text": [
      "Name: Alice  type is  <class 'str'>\n",
      "Age: 25  type is  <class 'int'>\n",
      "Height: 5.6  type is  <class 'float'>\n",
      "Is student: True  type is  <class 'bool'>\n"
     ]
    }
   ],
   "source": [
    "# ✅ What is a variable?\n",
    "# A variable stores data in memory that can be used and changed later.\n",
    "# Variables can hold different types of data like numbers, text, or boolean values.\n",
    "\n",
    "# 💡 Use variables to label and manage data during your program execution.\n",
    "# Example:\n",
    "name = \"Alice\"        # string\n",
    "age = 25              # integer\n",
    "height = 5.6          # float\n",
    "is_student = True     # boolean\n",
    "\n",
    "print(\"Name:\", name, \" type is \", type(name))\n",
    "print(\"Age:\", age, \" type is \", type(age))\n",
    "print(\"Height:\", height, \" type is \", type(height))\n",
    "print(\"Is student:\", is_student, \" type is \", type(is_student))"
   ]
  },
  {
   "cell_type": "markdown",
   "id": "c6393928",
   "metadata": {},
   "source": [
    "## 🔄 Type Conversion"
   ]
  },
  {
   "cell_type": "code",
   "execution_count": null,
   "id": "719c59b7",
   "metadata": {},
   "outputs": [],
   "source": [
    "# ✅ What is type conversion?\n",
    "# Converting one data type to another (e.g., int to float).\n",
    "# 💡 Useful when working with user input, file data, or APIs that return strings.\n",
    "\n",
    "# Example conversions:\n",
    "age_as_float = float(age)               # int to float\n",
    "height_as_str = str(height)            # float to string\n",
    "is_student_as_int = int(is_student)    # bool to int (True -> 1)\n",
    "year_str = \"2025\"\n",
    "year_int = int(year_str)               # string to int\n",
    "\n",
    "print(\"Age as float:\", age_as_float, \" type is \", type(age_as_float))\n",
    "print(\"Height as string:\", height_as_str, \" type is \", type(height_as_str))\n",
    "print(\"Is student as int:\", is_student_as_int, \" type is \", type(is_student_as_int))\n",
    "print(\"Year as int:\", year_int, \" type is \", type(year_int))"
   ]
  },
  {
   "cell_type": "code",
   "execution_count": null,
   "metadata": {
    "id": "0TXcZa9mliBa"
   },
   "outputs": [],
   "source": [
    "# BASIC OPERATIONS\n",
    "a = 10\n",
    "b = 3\n",
    "print(\"Addition:\", a + b)\n",
    "print(\"Subtraction:\", a - b)\n",
    "print(\"Multiplication:\", a * b)\n",
    "print(\"Division:\", a / b)\n",
    "print(\"Power:\", a ** b)\n",
    "print(\"Modulus (remainder):\", a % b)"
   ]
  },
  {
   "cell_type": "code",
   "execution_count": 3,
   "metadata": {
    "colab": {
     "base_uri": "https://localhost:8080/"
    },
    "id": "wS3S29WelnmU",
    "outputId": "c8ad2a79-69e6-4107-e90f-6ce63f5cf509"
   },
   "outputs": [
    {
     "name": "stdout",
     "output_type": "stream",
     "text": [
      "Hello World!\n",
      "Length of message: 12\n",
      "Uppercase: HELLO WORLD! \n",
      "\n",
      "This is a test string\n",
      "to show how multiline strings\n",
      "work in python\n"
     ]
    }
   ],
   "source": [
    "# STRINGS\n",
    "greeting = \"Hello\"\n",
    "target = \"World\"\n",
    "message = greeting + \" \" + target + \"!\"\n",
    "print(message)\n",
    "print(\"Length of message:\", len(message))\n",
    "print(\"Uppercase:\", message.upper(), \"\\n\")\n",
    "\n",
    "multilineString = \"\"\"This is a test string\n",
    "to show how multiline strings\n",
    "work in python\"\"\"\n",
    "print(multilineString)"
   ]
  },
  {
   "cell_type": "code",
   "execution_count": 4,
   "metadata": {
    "colab": {
     "base_uri": "https://localhost:8080/"
    },
    "id": "8wpDDGusOU4B",
    "outputId": "051fc4b3-09aa-4bf4-aa6b-c53839c5ab24"
   },
   "outputs": [
    {
     "name": "stdout",
     "output_type": "stream",
     "text": [
      "T h i s\n"
     ]
    }
   ],
   "source": [
    "print(multilineString[0], multilineString[1], multilineString[2], multilineString[3])"
   ]
  },
  {
   "cell_type": "code",
   "execution_count": 5,
   "metadata": {
    "colab": {
     "base_uri": "https://localhost:8080/"
    },
    "id": "8-Pod3P5O0wS",
    "outputId": "e1866261-8f09-494b-a220-6c4e182270bd"
   },
   "outputs": [
    {
     "name": "stdout",
     "output_type": "stream",
     "text": [
      "66\n"
     ]
    }
   ],
   "source": [
    "print(len(multilineString))"
   ]
  },
  {
   "cell_type": "code",
   "execution_count": 6,
   "metadata": {
    "colab": {
     "base_uri": "https://localhost:8080/"
    },
    "id": "j7bU0cXPO4l0",
    "outputId": "ef214b31-7fb7-449a-db61-bb4635e3bec2"
   },
   "outputs": [
    {
     "name": "stdout",
     "output_type": "stream",
     "text": [
      "True\n",
      "False\n"
     ]
    }
   ],
   "source": [
    "print(\"work\" in multilineString)\n",
    "print(\"stone\" in multilineString)"
   ]
  },
  {
   "cell_type": "code",
   "execution_count": null,
   "metadata": {
    "colab": {
     "base_uri": "https://localhost:8080/"
    },
    "id": "607WsrpvloDU",
    "outputId": "2523b41d-8332-4949-bf3a-45e09f1be4a9"
   },
   "outputs": [
    {
     "name": "stdout",
     "output_type": "stream",
     "text": [
      "Age is greater than 20\n",
      "Odd number\n"
     ]
    }
   ],
   "source": [
    "# IF-ELSE STATEMENTS\n",
    "if age < 20:\n",
    "    print(\"Age is less than 20\")\n",
    "else:\n",
    "    print(\"Age is greater than 20\")\n",
    "\n",
    "number = 7\n",
    "if number % 2 == 0:\n",
    "    print(\"Even number\")\n",
    "else:\n",
    "    print(\"Odd number\")"
   ]
  },
  {
   "cell_type": "code",
   "execution_count": null,
   "metadata": {
    "id": "AcgM_SktlqQs"
   },
   "outputs": [],
   "source": [
    "# LOOPS\n",
    "# For loop\n",
    "for i in range(5):\n",
    "    print(\"Counting:\", i)"
   ]
  },
  {
   "cell_type": "code",
   "execution_count": null,
   "metadata": {
    "id": "ED21ZO-LlsWF"
   },
   "outputs": [],
   "source": [
    "# While loop\n",
    "count = 0\n",
    "while count < 3:\n",
    "    print(\"While loop count:\", count)\n",
    "    count += 1"
   ]
  },
  {
   "cell_type": "code",
   "execution_count": null,
   "metadata": {
    "colab": {
     "base_uri": "https://localhost:8080/"
    },
    "id": "D5IA6ge0lz4E",
    "outputId": "19026cde-1087-48c0-9dba-75ae1273bd87"
   },
   "outputs": [
    {
     "name": "stdout",
     "output_type": "stream",
     "text": [
      "First fruit: apple\n",
      "All fruits: ['apple', 'banana', 'cherry', 'orange']\n"
     ]
    }
   ],
   "source": [
    "# LISTS\n",
    "fruits = [\"apple\", \"banana\", \"cherry\"]\n",
    "print(\"First fruit:\", fruits[0])\n",
    "fruits.append(\"orange\")\n",
    "print(\"All fruits:\", fruits)"
   ]
  },
  {
   "cell_type": "code",
   "execution_count": null,
   "metadata": {
    "colab": {
     "base_uri": "https://localhost:8080/"
    },
    "id": "0MxDG9B8l11V",
    "outputId": "7087da06-0f07-4902-d46a-2e2bceeec785"
   },
   "outputs": [
    {
     "name": "stdout",
     "output_type": "stream",
     "text": [
      "Fruit: apple\n",
      "Fruit: banana\n",
      "Fruit: cherry\n",
      "Fruit: orange\n"
     ]
    }
   ],
   "source": [
    "# Loop through list\n",
    "for fruit in fruits:\n",
    "    print(\"Fruit:\", fruit)"
   ]
  },
  {
   "cell_type": "code",
   "execution_count": null,
   "metadata": {
    "id": "XR8hbsm5mA7I"
   },
   "outputs": [],
   "source": [
    "# IMPORTING MODULES\n",
    "import math\n",
    "print(\"Square root of 16 is\", math.sqrt(16))"
   ]
  },
  {
   "cell_type": "code",
   "execution_count": null,
   "metadata": {
    "id": "5eN82j_HM8Wy"
   },
   "outputs": [],
   "source": [
    "# IMPORTING MODULES  - RANDOM\n",
    "import random\n",
    "\n",
    "number = random.randint(1, 10)\n",
    "print(\"Random number between 1 and 10:\", number)"
   ]
  },
  {
   "cell_type": "code",
   "execution_count": 7,
   "metadata": {
    "colab": {
     "base_uri": "https://localhost:8080/"
    },
    "id": "bHe7dSXEMppD",
    "outputId": "32c9bb93-199c-433e-b55e-928e1393c04b"
   },
   "outputs": [
    {
     "name": "stdout",
     "output_type": "stream",
     "text": [
      "Nice to meet you, \n"
     ]
    }
   ],
   "source": [
    "name = input(\"What is your name? \")\n",
    "print(\"Nice to meet you,\", name)"
   ]
  },
  {
   "cell_type": "code",
   "execution_count": null,
   "metadata": {
    "colab": {
     "base_uri": "https://localhost:8080/"
    },
    "id": "ZRTQjUbiM44B",
    "outputId": "c2b4ece5-c849-46f5-eff4-fe9ed9975e3d"
   },
   "outputs": [
    {
     "name": "stdout",
     "output_type": "stream",
     "text": [
      "Addition: [11 22 33]\n",
      "Subtraction: [ 9 18 27]\n",
      "Multiplication: [10 40 90]\n",
      "Division: [10. 10. 10.]\n",
      "Power: [   10   400 27000]\n",
      "a + 5: [15 25 35]\n",
      "a * 2: [20 40 60]\n",
      "a / 10: [1. 2. 3.]\n",
      "Sum: 60\n",
      "Mean: 20.0\n",
      "Max: 30\n",
      "Min: 10\n",
      "Standard Deviation: 8.16496580927726\n"
     ]
    }
   ],
   "source": [
    "import numpy as np\n",
    "\n",
    "# Define two arrays\n",
    "a = np.array([10, 20, 30])\n",
    "b = np.array([1, 2, 3])\n",
    "\n",
    "print(\"Addition:\", a + b)          # [11, 22, 33]\n",
    "print(\"Subtraction:\", a - b)       # [ 9, 18, 27]\n",
    "print(\"Multiplication:\", a * b)    # [10, 40, 90]\n",
    "print(\"Division:\", a / b)          # [10.0, 10.0, 10.0]\n",
    "print(\"Power:\", a ** b)            # [10^1, 20^2, 30^3]\n",
    "\n",
    "print(\"a + 5:\", a + 5)             # [15, 25, 35]\n",
    "print(\"a * 2:\", a * 2)             # [20, 40, 60]\n",
    "print(\"a / 10:\", a / 10)           # [1.0, 2.0, 3.0]\n",
    "\n",
    "print(\"Sum:\", np.sum(a))           # 60\n",
    "print(\"Mean:\", np.mean(a))         # 20.0\n",
    "print(\"Max:\", np.max(a))           # 30\n",
    "print(\"Min:\", np.min(a))           # 10\n",
    "print(\"Standard Deviation:\", np.std(a))  # ~8.16\n"
   ]
  }
 ],
 "metadata": {
  "colab": {
   "provenance": []
  },
  "kernelspec": {
   "display_name": "Python 3",
   "name": "python3"
  },
  "language_info": {
   "codemirror_mode": {
    "name": "ipython",
    "version": 3
   },
   "file_extension": ".py",
   "mimetype": "text/x-python",
   "name": "python",
   "nbconvert_exporter": "python",
   "pygments_lexer": "ipython3",
   "version": "3.13.3"
  }
 },
 "nbformat": 4,
 "nbformat_minor": 0
}
