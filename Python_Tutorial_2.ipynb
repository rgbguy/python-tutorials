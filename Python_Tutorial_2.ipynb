{
 "cells": [
  {
   "cell_type": "markdown",
   "id": "3f255065",
   "metadata": {},
   "source": [
    "## 🟦 Python Lists"
   ]
  },
  {
   "cell_type": "code",
   "execution_count": 55,
   "id": "4f02a9d2",
   "metadata": {},
   "outputs": [
    {
     "name": "stdout",
     "output_type": "stream",
     "text": [
      "[1, 2, 3, 'hello', True]\n"
     ]
    }
   ],
   "source": [
    "# A list is an ordered, mutable collection used to store multiple items.\n",
    "# Use lists when you need to store items in a specific sequence and modify them later.\n",
    "my_list = [1, 2, 3, 'hello', True]  # Example list containing mixed data types\n",
    "print(my_list)"
   ]
  },
  {
   "cell_type": "code",
   "execution_count": 56,
   "id": "f8498dfe",
   "metadata": {},
   "outputs": [
    {
     "name": "stdout",
     "output_type": "stream",
     "text": [
      "1\n",
      "True\n",
      "hello\n"
     ]
    }
   ],
   "source": [
    "# Accessing elements\n",
    "print(my_list[0])      # First element\n",
    "print(my_list[-1])     # Last element\n",
    "print(my_list[-2])     # second last\n"
   ]
  },
  {
   "cell_type": "code",
   "execution_count": 42,
   "id": "2cf0db6e",
   "metadata": {},
   "outputs": [
    {
     "name": "stdout",
     "output_type": "stream",
     "text": [
      "[1, 2, 99, 'hello', True]\n"
     ]
    }
   ],
   "source": [
    "# Modifying elements\n",
    "my_list[2] = 99\n",
    "print(my_list)"
   ]
  },
  {
   "cell_type": "code",
   "execution_count": 43,
   "id": "38932ab5",
   "metadata": {},
   "outputs": [
    {
     "name": "stdout",
     "output_type": "stream",
     "text": [
      "[1, 'new', 2, 99, True, 'world', 6]\n"
     ]
    }
   ],
   "source": [
    "# List operations\n",
    "my_list.append('world')        # Add to end\n",
    "my_list.insert(1, 'new')       # Insert at index 1\n",
    "my_list.extend([6, 7])         # Add multiple items\n",
    "my_list.remove('hello')        # Remove by value\n",
    "last = my_list.pop()           # Remove last item and return it\n",
    "print(my_list)"
   ]
  },
  {
   "cell_type": "code",
   "execution_count": 44,
   "id": "0b9d1384",
   "metadata": {},
   "outputs": [
    {
     "name": "stdout",
     "output_type": "stream",
     "text": [
      "2\n",
      "1\n"
     ]
    }
   ],
   "source": [
    "# More operations\n",
    "print(my_list.index(2))        # Find index of item 2\n",
    "print(my_list.count(2))        # Count occurrences of 2"
   ]
  },
  {
   "cell_type": "code",
   "execution_count": 45,
   "id": "aab7b91f",
   "metadata": {},
   "outputs": [
    {
     "name": "stdout",
     "output_type": "stream",
     "text": [
      "[1, 2, 5, 8]\n"
     ]
    }
   ],
   "source": [
    "# Reversing and sorting\n",
    "my_list.reverse()              # Reverse the list\n",
    "num_list = [5, 2, 8, 1]\n",
    "num_list.sort()                # Sort ascending\n",
    "print(num_list)"
   ]
  },
  {
   "cell_type": "code",
   "execution_count": 46,
   "id": "d05e4aca",
   "metadata": {},
   "outputs": [
    {
     "name": "stdout",
     "output_type": "stream",
     "text": [
      "[]\n"
     ]
    }
   ],
   "source": [
    "# Copying and clearing\n",
    "copied = my_list.copy()        # Create a copy\n",
    "my_list.clear()                # Remove all elements\n",
    "print(my_list)"
   ]
  },
  {
   "cell_type": "code",
   "execution_count": 47,
   "id": "0afb8ea2",
   "metadata": {},
   "outputs": [
    {
     "name": "stdout",
     "output_type": "stream",
     "text": [
      "6\n"
     ]
    }
   ],
   "source": [
    "# Nested lists (2D)\n",
    "matrix = [\n",
    "    [1, 2, 3],\n",
    "    [4, 5, 6],\n",
    "    [7, 8, 9]\n",
    "]\n",
    "print(matrix[1][2])  # Outputs 6"
   ]
  },
  {
   "cell_type": "code",
   "execution_count": 48,
   "id": "382df2e6",
   "metadata": {},
   "outputs": [
    {
     "name": "stdout",
     "output_type": "stream",
     "text": [
      "[0, 1, 4, 9, 16, 25, 36, 49, 64, 81]\n",
      "[0, 2, 4, 6, 8, 10, 12, 14, 16, 18]\n"
     ]
    }
   ],
   "source": [
    "# List Comprehensions - quick way to generate lists\n",
    "squares = [x**2 for x in range(10)]\n",
    "evens = [x for x in range(20) if x % 2 == 0]\n",
    "print(squares)\n",
    "print(evens)"
   ]
  },
  {
   "cell_type": "code",
   "execution_count": 49,
   "id": "7ba8fc6d",
   "metadata": {},
   "outputs": [
    {
     "name": "stdout",
     "output_type": "stream",
     "text": [
      "ALICE\n",
      "BOB\n",
      "CHARLIE\n"
     ]
    }
   ],
   "source": [
    "# Iterating through a list\n",
    "names = ['Alice', 'Bob', 'Charlie']\n",
    "for name in names:\n",
    "    print(name.upper())"
   ]
  },
  {
   "cell_type": "code",
   "execution_count": 50,
   "id": "4c94490a",
   "metadata": {},
   "outputs": [
    {
     "name": "stdout",
     "output_type": "stream",
     "text": [
      "Index 0: Alice\n",
      "Index 1: Bob\n",
      "Index 2: Charlie\n"
     ]
    }
   ],
   "source": [
    "# While loop with list\n",
    "i = 0\n",
    "while i < len(names):\n",
    "    print(f'Index {i}: {names[i]}')\n",
    "    i += 1"
   ]
  },
  {
   "cell_type": "code",
   "execution_count": 51,
   "id": "f7a98ed1",
   "metadata": {},
   "outputs": [
    {
     "name": "stdout",
     "output_type": "stream",
     "text": [
      "1 is of type <class 'int'>\n",
      "hello is of type <class 'str'>\n",
      "3.14 is of type <class 'float'>\n",
      "True is of type <class 'bool'>\n"
     ]
    }
   ],
   "source": [
    "# Mixed types in a list\n",
    "mixed = [1, 'hello', 3.14, True]\n",
    "for item in mixed:\n",
    "    print(f'{item} is of type {type(item)}')"
   ]
  },
  {
   "cell_type": "markdown",
   "id": "a6d997af",
   "metadata": {},
   "source": [
    "## 🟨 Python Dictionaries"
   ]
  },
  {
   "cell_type": "code",
   "execution_count": 30,
   "id": "4fba3a7e",
   "metadata": {},
   "outputs": [
    {
     "name": "stdout",
     "output_type": "stream",
     "text": [
      "{'name': 'Alice', 'age': 25, 'city': 'New York'}\n"
     ]
    }
   ],
   "source": [
    "# A dictionary is an unordered collection of key-value pairs.\n",
    "# Use it when you need to associate unique keys with values and retrieve data efficiently by keys.\n",
    "my_dict = {'name': 'Alice',\n",
    "           'age': 25,\n",
    "           'city': 'New York'}\n",
    "print(my_dict)"
   ]
  },
  {
   "cell_type": "code",
   "execution_count": 31,
   "id": "7998314c",
   "metadata": {},
   "outputs": [
    {
     "name": "stdout",
     "output_type": "stream",
     "text": [
      "Alice\n",
      "25\n",
      "Not found\n"
     ]
    }
   ],
   "source": [
    "# Accessing values by key\n",
    "print(my_dict['name'])         # Alice\n",
    "print(my_dict.get('age'))      # 25\n",
    "print(my_dict.get('country', 'Not found'))  # Default fallback"
   ]
  },
  {
   "cell_type": "code",
   "execution_count": 32,
   "id": "9842d73e",
   "metadata": {},
   "outputs": [
    {
     "name": "stdout",
     "output_type": "stream",
     "text": [
      "{'name': 'Alice', 'age': 26, 'city': 'New York', 'country': 'USA'}\n"
     ]
    }
   ],
   "source": [
    "# Modifying dictionary\n",
    "my_dict['age'] = 26            # Update existing value\n",
    "my_dict['country'] = 'USA'     # Add new key-value pair\n",
    "print(my_dict)"
   ]
  },
  {
   "cell_type": "code",
   "execution_count": 34,
   "id": "b1f35e83",
   "metadata": {},
   "outputs": [
    {
     "name": "stdout",
     "output_type": "stream",
     "text": [
      "dict_keys(['name', 'country'])\n",
      "dict_values(['Alice', 'USA'])\n",
      "dict_items([('name', 'Alice'), ('country', 'USA')])\n"
     ]
    }
   ],
   "source": [
    "# Dictionary methods\n",
    "print(my_dict.keys())          # All keys\n",
    "print(my_dict.values())        # All values\n",
    "print(my_dict.items())         # All key-value pairs"
   ]
  },
  {
   "cell_type": "code",
   "execution_count": 33,
   "id": "6a03fe44",
   "metadata": {},
   "outputs": [
    {
     "name": "stdout",
     "output_type": "stream",
     "text": [
      "{'name': 'Alice', 'country': 'USA'}\n"
     ]
    }
   ],
   "source": [
    "# Removing items\n",
    "del my_dict['city']            # Remove by key\n",
    "removed = my_dict.pop('age')   # Remove and return value\n",
    "print(my_dict)"
   ]
  },
  {
   "cell_type": "code",
   "execution_count": 35,
   "id": "ec55e442",
   "metadata": {},
   "outputs": [
    {
     "name": "stdout",
     "output_type": "stream",
     "text": [
      "{'name': 'Alice', 'country': 'USA', 'email': 'alice@example.com'}\n"
     ]
    }
   ],
   "source": [
    "# Merging dictionaries\n",
    "new_data = {'email': 'alice@example.com'}\n",
    "my_dict.update(new_data)       # Add/Update from another dictionary\n",
    "print(my_dict)"
   ]
  },
  {
   "cell_type": "code",
   "execution_count": 12,
   "id": "0da4ca28",
   "metadata": {},
   "outputs": [
    {
     "name": "stdout",
     "output_type": "stream",
     "text": [
      "{}\n"
     ]
    }
   ],
   "source": [
    "# Copying and clearing\n",
    "copy_dict = my_dict.copy()\n",
    "my_dict.clear()\n",
    "print(my_dict)"
   ]
  },
  {
   "cell_type": "code",
   "execution_count": 36,
   "id": "c577971a",
   "metadata": {},
   "outputs": [
    {
     "name": "stdout",
     "output_type": "stream",
     "text": [
      "name: Alice\n",
      "country: USA\n",
      "email: alice@example.com\n"
     ]
    }
   ],
   "source": [
    "# Iterating through a dictionary\n",
    "for key, value in copy_dict.items():\n",
    "    print(f'{key}: {value}')"
   ]
  },
  {
   "cell_type": "markdown",
   "id": "67362f2d",
   "metadata": {},
   "source": [
    "## 🧩 Python Functions"
   ]
  },
  {
   "cell_type": "code",
   "execution_count": null,
   "id": "29795944",
   "metadata": {},
   "outputs": [],
   "source": [
    "# A function is a reusable block of code that performs a specific task.\n",
    "# Use functions to organize code, avoid repetition, and improve readability.\n",
    "def greet(name):\n",
    "    return f'Hello, {name}!'\n",
    "\n",
    "print(greet('Alice'))"
   ]
  },
  {
   "cell_type": "code",
   "execution_count": 37,
   "id": "36cb63bb",
   "metadata": {},
   "outputs": [
    {
     "name": "stdout",
     "output_type": "stream",
     "text": [
      "Hello, Guest!\n",
      "Hello, Bob!\n"
     ]
    }
   ],
   "source": [
    "# Function with default arguments\n",
    "def greet(name='Guest'):\n",
    "    return f'Hello, {name}!'\n",
    "\n",
    "print(greet())\n",
    "print(greet('Bob'))"
   ]
  },
  {
   "cell_type": "code",
   "execution_count": null,
   "id": "5ac248dc",
   "metadata": {},
   "outputs": [],
   "source": [
    "# Function with multiple arguments\n",
    "def add(a, b):\n",
    "    return a + b\n",
    "\n",
    "print(add(3, 5))"
   ]
  },
  {
   "cell_type": "code",
   "execution_count": 38,
   "id": "5b509e51",
   "metadata": {},
   "outputs": [
    {
     "name": "stdout",
     "output_type": "stream",
     "text": [
      "Min: 1, Max: 4, Sum: 10\n"
     ]
    }
   ],
   "source": [
    "# Returning multiple values\n",
    "def stats(numbers):\n",
    "    return min(numbers), max(numbers), sum(numbers)\n",
    "\n",
    "low, high, total = stats([3, 1, 4, 2])\n",
    "print(f'Min: {low}, Max: {high}, Sum: {total}')"
   ]
  },
  {
   "cell_type": "code",
   "execution_count": 39,
   "id": "94411866",
   "metadata": {},
   "outputs": [
    {
     "name": "stdout",
     "output_type": "stream",
     "text": [
      "25\n"
     ]
    }
   ],
   "source": [
    "# Lambda functions (anonymous functions)\n",
    "square = lambda x: x**2\n",
    "print(square(5))"
   ]
  },
  {
   "cell_type": "markdown",
   "id": "c29dfce6",
   "metadata": {},
   "source": [
    "## 🏷 Python Classes"
   ]
  },
  {
   "cell_type": "code",
   "execution_count": null,
   "id": "fae92234",
   "metadata": {},
   "outputs": [],
   "source": [
    "# A class is a blueprint for creating objects (instances).\n",
    "# Use classes when you want to group data and behavior together.\n",
    "class Person:\n",
    "    def __init__(self, name, age):\n",
    "        self.name = name\n",
    "        self.age = age\n",
    "\n",
    "    def greet(self):\n",
    "        return f'Hello, my name is {self.name} and I am {self.age} years old.'\n",
    "\n",
    "# Creating an object\n",
    "person1 = Person('Alice', 30)\n",
    "print(person1.greet())"
   ]
  },
  {
   "cell_type": "code",
   "execution_count": null,
   "id": "ccaa693e",
   "metadata": {},
   "outputs": [],
   "source": [
    "# Adding a method to update attributes\n",
    "class Person:\n",
    "    def __init__(self, name, age):\n",
    "        self.name = name\n",
    "        self.age = age\n",
    "\n",
    "    def greet(self):\n",
    "        return f'Hello, my name is {self.name} and I am {self.age} years old.'\n",
    "\n",
    "    def have_birthday(self):\n",
    "        self.age += 1\n",
    "\n",
    "p = Person('Bob', 24)\n",
    "print(p.greet())\n",
    "p.have_birthday()\n",
    "print(p.greet())"
   ]
  },
  {
   "cell_type": "code",
   "execution_count": null,
   "id": "358910f4",
   "metadata": {},
   "outputs": [],
   "source": [
    "# Inheritance: creating a subclass\n",
    "class Student(Person):\n",
    "    def __init__(self, name, age, student_id):\n",
    "        super().__init__(name, age)\n",
    "        self.student_id = student_id\n",
    "\n",
    "    def study(self):\n",
    "        return f'{self.name} is studying.'\n",
    "\n",
    "s = Student('Charlie', 20, 'S123')\n",
    "print(s.greet())\n",
    "print(s.study())"
   ]
  },
  {
   "cell_type": "markdown",
   "metadata": {},
   "source": [
    "## 🏷 FILE I/O"
   ]
  },
  {
   "cell_type": "code",
   "execution_count": null,
   "metadata": {},
   "outputs": [],
   "source": [
    "# Writing to a file\n",
    "with open(\"example.txt\", \"w\") as f:\n",
    "    f.write(\"Hello from Python!\")\n",
    "\n",
    "# Reading from a file\n",
    "with open(\"example.txt\", \"r\") as f:\n",
    "    content = f.read()\n",
    "    print(\"File content:\", content)"
   ]
  }
 ],
 "metadata": {
  "colab": {
   "provenance": []
  },
  "kernelspec": {
   "display_name": "Python 3",
   "name": "python3"
  },
  "language_info": {
   "codemirror_mode": {
    "name": "ipython",
    "version": 3
   },
   "file_extension": ".py",
   "mimetype": "text/x-python",
   "name": "python",
   "nbconvert_exporter": "python",
   "pygments_lexer": "ipython3",
   "version": "3.13.3"
  }
 },
 "nbformat": 4,
 "nbformat_minor": 0
}
