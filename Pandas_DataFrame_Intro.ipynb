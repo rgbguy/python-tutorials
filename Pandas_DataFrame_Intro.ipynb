{
 "cells": [
  {
   "cell_type": "markdown",
   "id": "27990b37",
   "metadata": {},
   "source": [
    "## 📊 Introduction to Pandas and DataFrames"
   ]
  },
  {
   "cell_type": "code",
   "execution_count": 2,
   "id": "b5beade3",
   "metadata": {},
   "outputs": [
    {
     "name": "stdout",
     "output_type": "stream",
     "text": [
      "      Name  Age      City\n",
      "0    Alice   25  New York\n",
      "1      Bob   30     Paris\n",
      "2  Charlie   35    London\n"
     ]
    }
   ],
   "source": [
    "# ✅ What is Pandas?\n",
    "# Pandas is a powerful Python library used for data manipulation and analysis.\n",
    "# It provides two key structures: Series (1D) and DataFrame (2D like a table).\n",
    "# 💡 Use DataFrames when working with CSV files, Excel data, APIs, or tabular data in general.\n",
    "\n",
    "import pandas as pd\n",
    "data = {\n",
    "    'Name': ['Alice', 'Bob', 'Charlie'],\n",
    "    'Age': [25, 30, 35],\n",
    "    'City': ['New York', 'Paris', 'London']\n",
    "}\n",
    "\n",
    "# Create a DataFrame\n",
    "df = pd.DataFrame(data)\n",
    "print(df)"
   ]
  },
  {
   "cell_type": "code",
   "execution_count": 3,
   "id": "5bd10fe4",
   "metadata": {},
   "outputs": [
    {
     "name": "stdout",
     "output_type": "stream",
     "text": [
      "0      Alice\n",
      "1        Bob\n",
      "2    Charlie\n",
      "Name: Name, dtype: object\n",
      "Name       Alice\n",
      "Age           25\n",
      "City    New York\n",
      "Name: 0, dtype: object\n",
      "Name      Bob\n",
      "Age        30\n",
      "City    Paris\n",
      "Name: 1, dtype: object\n"
     ]
    }
   ],
   "source": [
    "# 📌 Accessing columns and rows\n",
    "print(df['Name'])           # Access a column\n",
    "print(df.loc[0])            # Access a row by index\n",
    "print(df.iloc[1])           # Access a row by position\n"
   ]
  },
  {
   "cell_type": "code",
   "execution_count": 4,
   "id": "c763c066",
   "metadata": {},
   "outputs": [
    {
     "name": "stdout",
     "output_type": "stream",
     "text": [
      "(3, 3)\n",
      "Index(['Name', 'Age', 'City'], dtype='object')\n",
      "        Age\n",
      "count   3.0\n",
      "mean   30.0\n",
      "std     5.0\n",
      "min    25.0\n",
      "25%    27.5\n",
      "50%    30.0\n",
      "75%    32.5\n",
      "max    35.0\n",
      "      Name  Age    City\n",
      "1      Bob   30   Paris\n",
      "2  Charlie   35  London\n"
     ]
    }
   ],
   "source": [
    "# 🔄 Common DataFrame operations\n",
    "print(df.shape)             # (rows, columns)\n",
    "print(df.columns)           # Column names\n",
    "print(df.describe())        # Summary stats\n",
    "print(df[df['Age'] > 28])   # Filtering rows"
   ]
  },
  {
   "cell_type": "code",
   "execution_count": 1,
   "id": "345d6f52",
   "metadata": {},
   "outputs": [
    {
     "name": "stdout",
     "output_type": "stream",
     "text": [
      "📌 Basic Info:\n",
      "<class 'pandas.core.frame.DataFrame'>\n",
      "RangeIndex: 250 entries, 0 to 249\n",
      "Data columns (total 11 columns):\n",
      " #   Column             Non-Null Count  Dtype \n",
      "---  ------             --------------  ----- \n",
      " 0   Order ID           250 non-null    object\n",
      " 1   Date               250 non-null    object\n",
      " 2   Product            250 non-null    object\n",
      " 3   Category           250 non-null    object\n",
      " 4   Price              250 non-null    int64 \n",
      " 5   Quantity           250 non-null    int64 \n",
      " 6   Total Sales        250 non-null    int64 \n",
      " 7   Customer Name      250 non-null    object\n",
      " 8   Customer Location  250 non-null    object\n",
      " 9   Payment Method     250 non-null    object\n",
      " 10  Status             250 non-null    object\n",
      "dtypes: int64(3), object(8)\n",
      "memory usage: 21.6+ KB\n",
      "None\n",
      "\n"
     ]
    }
   ],
   "source": [
    "import pandas as pd\n",
    "\n",
    "# Load CSV\n",
    "df = pd.read_csv(\"resources/amazon_sales_data_2025.csv\")\n",
    "\n",
    "# Basic Info\n",
    "print(\"📌 Basic Info:\")\n",
    "print(df.info())\n",
    "print()\n"
   ]
  },
  {
   "cell_type": "code",
   "execution_count": 7,
   "id": "ffce3e05",
   "metadata": {},
   "outputs": [
    {
     "name": "stdout",
     "output_type": "stream",
     "text": [
      "📊 First few rows:\n",
      "  Order ID      Date        Product     Category  Price  Quantity  \\\n",
      "0  ORD0001  14-03-25  Running Shoes     Footwear     60         3   \n",
      "1  ORD0002  20-03-25     Headphones  Electronics    100         4   \n",
      "2  ORD0003  15-02-25  Running Shoes     Footwear     60         2   \n",
      "3  ORD0004  19-02-25  Running Shoes     Footwear     60         3   \n",
      "4  ORD0005  10-03-25     Smartwatch  Electronics    150         3   \n",
      "\n",
      "   Total Sales  Customer Name Customer Location Payment Method     Status  \n",
      "0          180     Emma Clark          New York     Debit Card  Cancelled  \n",
      "1          400  Emily Johnson     San Francisco     Debit Card    Pending  \n",
      "2          120       John Doe            Denver     Amazon Pay  Cancelled  \n",
      "3          180  Olivia Wilson            Dallas    Credit Card    Pending  \n",
      "4          450     Emma Clark          New York     Debit Card    Pending  \n",
      "\n"
     ]
    }
   ],
   "source": [
    "\n",
    "# First few rows\n",
    "print(\"📊 First few rows:\")\n",
    "print(df.head())\n",
    "print()\n",
    "\n"
   ]
  },
  {
   "cell_type": "code",
   "execution_count": 8,
   "id": "4dbf90b7",
   "metadata": {},
   "outputs": [
    {
     "name": "stdout",
     "output_type": "stream",
     "text": [
      "📈 Summary Statistics:\n",
      "             Price    Quantity  Total Sales\n",
      "count   250.000000  250.000000   250.000000\n",
      "mean    343.580000    2.856000   975.380000\n",
      "std     380.635808    1.429489  1252.112254\n",
      "min      15.000000    1.000000    15.000000\n",
      "25%      40.000000    2.000000   100.000000\n",
      "50%     150.000000    3.000000   400.000000\n",
      "75%     600.000000    4.000000  1500.000000\n",
      "max    1200.000000    5.000000  6000.000000\n",
      "\n"
     ]
    }
   ],
   "source": [
    "\n",
    "# Summary stats for numeric columns\n",
    "print(\"📈 Summary Statistics:\")\n",
    "print(df.describe())\n",
    "print()\n",
    "\n"
   ]
  },
  {
   "cell_type": "code",
   "execution_count": 9,
   "id": "5810fa76",
   "metadata": {},
   "outputs": [
    {
     "name": "stdout",
     "output_type": "stream",
     "text": [
      "🧾 Columns:\n",
      "['Order ID', 'Date', 'Product', 'Category', 'Price', 'Quantity', 'Total Sales', 'Customer Name', 'Customer Location', 'Payment Method', 'Status']\n",
      "\n"
     ]
    }
   ],
   "source": [
    "# Column names\n",
    "print(\"🧾 Columns:\")\n",
    "print(df.columns.tolist())\n",
    "print()\n"
   ]
  },
  {
   "cell_type": "code",
   "execution_count": null,
   "id": "6092256b",
   "metadata": {},
   "outputs": [
    {
     "name": "stdout",
     "output_type": "stream",
     "text": [
      "📦 Unique Products: 10\n"
     ]
    }
   ],
   "source": [
    "\n",
    "# Count of unique products\n",
    "print(\"📦 Unique Products:\", df['Product'].nunique())"
   ]
  },
  {
   "cell_type": "code",
   "execution_count": null,
   "id": "53b51270",
   "metadata": {},
   "outputs": [
    {
     "name": "stdout",
     "output_type": "stream",
     "text": [
      "🧪 Sales by Category:\n",
      "Category\n",
      "Books                1035\n",
      "Clothing             3540\n",
      "Electronics        129950\n",
      "Footwear             4320\n",
      "Home Appliances    105000\n",
      "Name: Total Sales, dtype: int64\n",
      "\n"
     ]
    }
   ],
   "source": [
    "# Orders by category\n",
    "print(\"🧪 Sales by Category:\")\n",
    "print(df.groupby(\"Category\")[\"Total Sales\"].sum())\n",
    "print()"
   ]
  },
  {
   "cell_type": "code",
   "execution_count": 12,
   "id": "6a6e102d",
   "metadata": {},
   "outputs": [
    {
     "name": "stdout",
     "output_type": "stream",
     "text": [
      "📋 Order Status Breakdown:\n",
      "Status\n",
      "Completed    88\n",
      "Pending      85\n",
      "Cancelled    77\n",
      "Name: count, dtype: int64\n",
      "\n"
     ]
    }
   ],
   "source": [
    "# Status count\n",
    "print(\"📋 Order Status Breakdown:\")\n",
    "print(df[\"Status\"].value_counts())\n",
    "print()"
   ]
  },
  {
   "cell_type": "code",
   "execution_count": 13,
   "id": "052aada0",
   "metadata": {},
   "outputs": [
    {
     "name": "stdout",
     "output_type": "stream",
     "text": [
      "🏆 Top Customers:\n",
      "Customer Name\n",
      "Olivia Wilson    36170\n",
      "Jane Smith       31185\n",
      "Emma Clark       29700\n",
      "John Doe         26870\n",
      "Emily Johnson    23475\n",
      "Name: Total Sales, dtype: int64\n"
     ]
    }
   ],
   "source": [
    "# Top 5 customers by total purchase\n",
    "print(\"🏆 Top Customers:\")\n",
    "print(df.groupby(\"Customer Name\")[\"Total Sales\"].sum().sort_values(ascending=False).head())"
   ]
  }
 ],
 "metadata": {
  "kernelspec": {
   "display_name": "Python 3",
   "language": "python",
   "name": "python3"
  },
  "language_info": {
   "codemirror_mode": {
    "name": "ipython",
    "version": 3
   },
   "file_extension": ".py",
   "mimetype": "text/x-python",
   "name": "python",
   "nbconvert_exporter": "python",
   "pygments_lexer": "ipython3",
   "version": "3.13.3"
  }
 },
 "nbformat": 4,
 "nbformat_minor": 5
}
